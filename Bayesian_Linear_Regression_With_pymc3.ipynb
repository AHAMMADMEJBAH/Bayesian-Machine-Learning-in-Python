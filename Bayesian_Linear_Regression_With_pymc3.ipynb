{
 "cells": [
  {
   "cell_type": "markdown",
   "metadata": {},
   "source": [
    "# bayesian_linear_regression"
   ]
  },
  {
   "cell_type": "code",
   "execution_count": null,
   "metadata": {},
   "outputs": [],
   "source": [
    "import logging\n",
    "import pymc3 as pm\n",
    "import numpy as np\n",
    "import warnings\n",
    "warnings.filterwarnings('ignore')"
   ]
  },
  {
   "cell_type": "markdown",
   "metadata": {},
   "source": [
    "This is a [PyMC3](https://docs.pymc.io/) implementation of the examples in [Bayesian regression with linear basis function models](https://nbviewer.jupyter.org/github/krasserm/bayesian-machine-learning/blob/master/bayesian_linear_regression.ipynb). To recap, a linear regression model is a linear function of the parameters but not necessarily of the input. Input $x$ can be expanded with a set of non-linear basis functions $\\phi_j(x)$, where $(\\phi_1(x), \\dots, \\phi_M(x))^T = \\boldsymbol\\phi(x)$, for modeling a non-linear relationship between input $x$ and a function value $y$.\n",
    "\n",
    "$$\n",
    "y(x, \\mathbf{w}) = w_0 + \\sum_{j=1}^{M}{w_j \\phi_j(x)} = w_0 + \\mathbf{w}_{1:}^T \\boldsymbol\\phi(x) \\tag{1}\n",
    "$$\n",
    "\n",
    "For simplicity I'm using a scalar input $x$ here. Target variable $t$ is given by the deterministic function $y(x, \\mathbf{w})$ and Gaussian noise $\\epsilon$.\n",
    "\n",
    "$$\n",
    "t = y(x, \\mathbf{w}) + \\epsilon \\tag{2}\n",
    "$$\n",
    "\n",
    "Here, we can choose between polynomial and Gaussian basis functions for expanding input $x$. "
   ]
  },
  {
   "cell_type": "code",
   "execution_count": null,
   "metadata": {},
   "outputs": [],
   "source": [
    "from functools import partial\n",
    "from scipy.stats import norm\n",
    "\n",
    "def polynomial_basis(x, power):\n",
    "    return x ** power\n",
    "\n",
    "def gaussian_basis(x, mu, sigma):\n",
    "    return norm(loc=mu, scale=sigma).pdf(x).astype(np.float32)\n",
    "\n",
    "def _expand(x, bf, bf_args):\n",
    "    return np.stack([bf(x, bf_arg) for bf_arg in bf_args], axis=1)\n",
    "\n",
    "def expand_polynomial(x, degree=3):\n",
    "    return _expand(x, bf=polynomial_basis, bf_args=range(1, degree + 1))\n",
    "\n",
    "def expand_gaussian(x, mus=np.linspace(0, 1, 9), sigma=0.3):\n",
    "    return _expand(x, bf=partial(gaussian_basis, sigma=sigma), bf_args=mus)\n",
    "\n",
    "# Choose between polynomial and Gaussian expansion\n",
    "# (by switching the comment on the following two lines)\n",
    "expand = expand_polynomial\n",
    "#expand = expand_gaussian"
   ]
  },
  {
   "cell_type": "markdown",
   "metadata": {},
   "source": [
    "For example, to expand two input values `[0.5, 1.5]` into a polynomial design matrix of degree `3` we can use"
   ]
  },
  {
   "cell_type": "code",
   "execution_count": null,
   "metadata": {},
   "outputs": [],
   "source": [
    "expand_polynomial(np.array([0.5, 1.5]), degree=3)"
   ]
  },
  {
   "cell_type": "markdown",
   "metadata": {},
   "source": [
    "The power of `0` is omitted here and covered by a $w_0$ in the model."
   ]
  },
  {
   "cell_type": "markdown",
   "metadata": {},
   "source": [
    "## Example dataset\n",
    "\n",
    "The example dataset consists of `N` noisy samples from a sinusoidal function `f`."
   ]
  },
  {
   "cell_type": "code",
   "execution_count": null,
   "metadata": {},
   "outputs": [],
   "source": [
    "import matplotlib.pyplot as plt\n",
    "%matplotlib inline\n",
    "\n",
    "from bayesian_linear_regression_util import (\n",
    "    plot_data, \n",
    "    plot_truth\n",
    ")\n",
    "\n",
    "def f(x, noise=0):\n",
    "    \"\"\"Sinusoidal function with optional Gaussian noise.\"\"\"\n",
    "    return 0.5 + np.sin(2 * np.pi * x) + np.random.normal(scale=noise, size=x.shape)\n",
    "\n",
    "# Number of samples\n",
    "N = 10\n",
    "\n",
    "# Constant noise \n",
    "noise = 0.3\n",
    "\n",
    "# Noisy samples \n",
    "x = np.linspace(0, 1, N, dtype=np.float32)\n",
    "t = f(x, noise=noise)\n",
    "\n",
    "# Noise-free ground truth \n",
    "x_test = np.linspace(0, 1, 100).astype(np.float32)\n",
    "y_true = f(x_test)\n",
    "\n",
    "plot_data(x, t)\n",
    "plot_truth(x_test, y_true)"
   ]
  },
  {
   "cell_type": "markdown",
   "metadata": {},
   "source": [
    "## Implementation with PyMC3\n",
    "\n",
    "### Model definition"
   ]
  },
  {
   "cell_type": "markdown",
   "metadata": {},
   "source": [
    "The model definition directly follows from Eq. $(1)$ and Eq. $(2)$ with normal priors over parameters. The size of parameter vector `w_r` ($\\mathbf{w}_{1:}$ in Eq. $(1)$) is determined by the number of basis functions. With the above default settings, it is 3 for polynomial expansion and 9 for Gaussian expansion."
   ]
  },
  {
   "cell_type": "code",
   "execution_count": null,
   "metadata": {},
   "outputs": [],
   "source": [
    "from theano import shared\n",
    "\n",
    "Phi = expand(x)\n",
    "Phi_shared = shared(Phi)\n",
    "\n",
    "with pm.Model() as model:\n",
    "    w_0 = pm.Normal('w_0', mu=0, sigma=10)\n",
    "    w_r = pm.Normal('w_r', mu=0, sigma=10, shape=Phi.shape[1])\n",
    "\n",
    "    mu = w_0 + w_r.dot(Phi_shared.T)\n",
    "    \n",
    "    t_obs = pm.Normal('t_obs', mu=mu, sigma=noise, observed=t)"
   ]
  },
  {
   "cell_type": "markdown",
   "metadata": {},
   "source": [
    "### Inference"
   ]
  },
  {
   "cell_type": "code",
   "execution_count": null,
   "metadata": {},
   "outputs": [],
   "source": [
    "with model:\n",
    "    trace = pm.sample()"
   ]
  },
  {
   "cell_type": "code",
   "execution_count": null,
   "metadata": {},
   "outputs": [],
   "source": [
    "pm.traceplot(trace, compact=False);"
   ]
  },
  {
   "cell_type": "code",
   "execution_count": null,
   "metadata": {},
   "outputs": [],
   "source": [
    "pm.plot_posterior(trace, var_names=\"w_0\")\n",
    "pm.plot_posterior(trace, var_names=\"w_r\");"
   ]
  },
  {
   "cell_type": "markdown",
   "metadata": {},
   "source": [
    "### Prediction\n",
    "\n",
    "We want posterior predictive samples for a separate test set `x_test`. This requires to update the shared input variable `Phi_shared` accordingly."
   ]
  },
  {
   "cell_type": "code",
   "execution_count": null,
   "metadata": {},
   "outputs": [],
   "source": [
    "Phi_shared.set_value(expand(x_test))\n",
    "predictive_samples = pm.sample_posterior_predictive(trace, model=model, samples=5000)['t_obs']"
   ]
  },
  {
   "cell_type": "markdown",
   "metadata": {},
   "source": [
    "Mean and standard deviation of predictive samples can be used to plot model predictions and their uncertainties (together with the ground truth and the noisy training dataset)."
   ]
  },
  {
   "cell_type": "code",
   "execution_count": null,
   "metadata": {},
   "outputs": [],
   "source": [
    "m = np.mean(predictive_samples, axis=0)\n",
    "s = np.std(predictive_samples, axis=0)\n",
    "\n",
    "plt.fill_between(x_test, m + s, m - s, alpha = 0.5, label='Predictive std. dev.')\n",
    "plt.plot(x_test, m, label='Predictive mean');\n",
    "\n",
    "plot_data(x, t)\n",
    "plot_truth(x_test, y_true, label=None)\n",
    "\n",
    "plt.legend();"
   ]
  },
  {
   "cell_type": "markdown",
   "metadata": {},
   "source": [
    "Try running the example again with Gaussian expansion i.e. setting `expand = expand_gaussian` and see how it compares to polynomial expansion. Also try running with a different number of basis functions by overriding the default arguments of `expand_polynomial` and `expand_gaussian`."
   ]
  },
  {
   "cell_type": "markdown",
   "metadata": {},
   "source": [
    "### Reference : https://nbviewer.jupyter.org/github/krasserm/bayesian-machine-learning/blob/master/bayesian_linear_regression.ipynb"
   ]
  },
  {
   "cell_type": "code",
   "execution_count": null,
   "metadata": {},
   "outputs": [],
   "source": []
  }
 ],
 "metadata": {
  "kernelspec": {
   "display_name": "Python 3",
   "language": "python",
   "name": "python3"
  },
  "language_info": {
   "codemirror_mode": {
    "name": "ipython",
    "version": 3
   },
   "file_extension": ".py",
   "mimetype": "text/x-python",
   "name": "python",
   "nbconvert_exporter": "python",
   "pygments_lexer": "ipython3",
   "version": "3.7.0"
  }
 },
 "nbformat": 4,
 "nbformat_minor": 4
}
